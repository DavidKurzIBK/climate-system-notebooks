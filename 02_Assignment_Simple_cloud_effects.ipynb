{
 "cells": [
  {
   "cell_type": "markdown",
   "metadata": {},
   "source": [
    "# Assignment: effect of clouds on the planetary energy balance"
   ]
  },
  {
   "cell_type": "markdown",
   "metadata": {},
   "source": [
    "In this exercise you are going to compute the effect of clouds on the planetary energy balance, with the help of a simple 1-column model of the atmosphere."
   ]
  },
  {
   "cell_type": "code",
   "execution_count": 18,
   "metadata": {},
   "outputs": [],
   "source": [
    "# These are the modules we need\n",
    "import numpy as np\n",
    "import matplotlib.pyplot as plt"
   ]
  },
  {
   "cell_type": "markdown",
   "metadata": {},
   "source": [
    "We define some constants:"
   ]
  },
  {
   "cell_type": "code",
   "execution_count": 19,
   "metadata": {},
   "outputs": [],
   "source": [
    "s_0 = 1367  # Solar constant (W m-2)\n",
    "sigma = 5.670e-8  # Stefan–Boltzmann constant\n",
    "t_s = 288  # Average temperature of the Earth's surface (K)\n",
    "t_clr = 261  # Radiation temperature of a clear sky atmosphere (K)\n",
    "gamma = -6.5  # Lapse-rate in the atmoshpere (K km-1)\n",
    "surface_albedo = 0.12  # Albedo of the surface of the Earth"
   ]
  },
  {
   "cell_type": "markdown",
   "metadata": {},
   "source": [
    "## Effect of low clouds on the EB "
   ]
  },
  {
   "cell_type": "markdown",
   "metadata": {},
   "source": [
    "To isolate the effect of clouds, we assume a very simple representation of the atmosphere as a simple column, free of other clouds. The Temperature of the cloud would then be: \n",
    "\n",
    "$T_{Cloud} = T_{Surface} + \\gamma \\, z $, \n",
    "\n",
    "with $z$ the cloud altitude (km) and $\\gamma$ the lapse-rate."
   ]
  },
  {
   "cell_type": "markdown",
   "metadata": {},
   "source": [
    "**Q: compute the temperature (K) of a cloud at z = 5km, assuming a constant lapse rate and an average surface temperature of 288K:**"
   ]
  },
  {
   "cell_type": "code",
   "execution_count": 20,
   "metadata": {},
   "outputs": [
    {
     "name": "stdout",
     "output_type": "stream",
     "text": [
      "Temperature (K) of cloud at z = 5km (assuming a constant lapse rate & average t_s of 288K is 255.5\n"
     ]
    }
   ],
   "source": [
    "z = 5  \n",
    "t_c = t_s + z*gamma\n",
    "\n",
    "print('Temperature (K) of cloud at z = 5km (assuming a constant lapse rate & average t_s of 288K is ' + str(t_c))"
   ]
  },
  {
   "cell_type": "markdown",
   "metadata": {},
   "source": [
    "Now assume that the cloud absorbs all the IR radiation emited by the surface (a reasonable approximation), while emmitting IR directly back to space according to its own temperature. So the total energy change of the climate system in the longwave (LW) spectrum would be:\n",
    "\n",
    "$\\Delta E_{LW} = LW_{ClrSky}\\uparrow - LW_{Cloud}\\uparrow$\n",
    "\n",
    "So, according to Stefan-Boltzmann:\n",
    "\n",
    "$\\Delta E_{LW} = \\sigma T_{ClrSky}^4 - \\sigma T_{Cloud}^4$\n",
    "\n",
    "Where $T_{ClrSky}$ is the radiation temperature of a clear sky atmosphere (here assumed to be 261 K)."
   ]
  },
  {
   "cell_type": "markdown",
   "metadata": {},
   "source": [
    "**Q: compute the approximate \"average\" altitude at which the clear sky atmosphere emits at 261 K (from the standard lapse rate). This will give the approximate minimum altitude at which the equation above is valid.**"
   ]
  },
  {
   "cell_type": "code",
   "execution_count": 21,
   "metadata": {},
   "outputs": [
    {
     "name": "stdout",
     "output_type": "stream",
     "text": [
      "The clear sky emits at 4.153846153846154 km \n"
     ]
    }
   ],
   "source": [
    "z_avg = (t_clr-t_s)/gamma\n",
    "print('The clear sky emits at ' + str(z_avg)+ ' km ')"
   ]
  },
  {
   "cell_type": "markdown",
   "metadata": {},
   "source": [
    "**Q: compute the effect of a low cloud on the LW energy balance of the climate system. Is the cloud a LW energy loss or an energy gain for the system?**"
   ]
  },
  {
   "cell_type": "code",
   "execution_count": 22,
   "metadata": {},
   "outputs": [
    {
     "name": "stdout",
     "output_type": "stream",
     "text": [
      "The effect of low clouds on the LW-radiative balance is 21.48700937315624 W/m^2, so a gain of energy\n"
     ]
    }
   ],
   "source": [
    "delta_EB_lw = sigma*(t_clr**4)-sigma*(t_c**4)\n",
    "\n",
    "print('The effect of low clouds on the LW-radiative balance is ' + str(delta_EB_lw) + ' W/m^2, so a gain of energy')"
   ]
  },
  {
   "cell_type": "markdown",
   "metadata": {},
   "source": [
    "Now consider the shortwave effects of the cloud if it has an albedo of 0.5. The net difference for the climate system is simply the increased loss in solar energy because of an increased reflection:\n",
    "\n",
    "$\\Delta E_{SW} = - S_0 / 4 \\cdot (\\alpha _{Cloud} - \\alpha _{Earth} ) $"
   ]
  },
  {
   "cell_type": "markdown",
   "metadata": {},
   "source": [
    "**Q: compute the effect of a low cloud on the shortwave (SW) energy balance of the climate system. Is the cloud a SW energy loss or an energy gain for the system?**"
   ]
  },
  {
   "cell_type": "code",
   "execution_count": 23,
   "metadata": {},
   "outputs": [
    {
     "name": "stdout",
     "output_type": "stream",
     "text": [
      "The effect of low clouds on SW-radiative balance is -129.865W/m^2, so a loss of energy\n"
     ]
    }
   ],
   "source": [
    "cloud_albedo = 0.5\n",
    "delta_EB_sw = -s_0/4*(cloud_albedo - surface_albedo)\n",
    "\n",
    "print('The effect of low clouds on SW-radiative balance is ' + str(delta_EB_sw) + 'W/m^2, so a loss of energy')"
   ]
  },
  {
   "cell_type": "markdown",
   "metadata": {},
   "source": [
    "Finally, the net energy difference for the climate system is:\n",
    "    \n",
    "$\\Delta E_{TOT} = \\Delta E_{SW} + \\Delta E_{LW}$"
   ]
  },
  {
   "cell_type": "markdown",
   "metadata": {},
   "source": [
    "**Q: compute the effect of a low cloud on the total (SW + LW) energy balance of the climate system. Is the low cloud a total energy loss or an energy gain for the system?**"
   ]
  },
  {
   "cell_type": "code",
   "execution_count": 24,
   "metadata": {},
   "outputs": [
    {
     "name": "stdout",
     "output_type": "stream",
     "text": [
      "The effect of low clouds in the total radiative balance is -108.37799062684377W/m^2,  so an energy loss\n"
     ]
    }
   ],
   "source": [
    "delta_EB_tot = delta_EB_sw + delta_EB_lw\n",
    "\n",
    "print('The effect of low clouds in the total radiative balance is ' + str(delta_EB_tot) + 'W/m^2,  so an energy loss' )"
   ]
  },
  {
   "cell_type": "markdown",
   "metadata": {},
   "source": [
    "## Effect of high clouds on the EB "
   ]
  },
  {
   "cell_type": "markdown",
   "metadata": {},
   "source": [
    "**Q: repeat the calculations above to compute the effect of a high cloud (z = 12km, albedo unchanged) on the total energy balance of the climate system. Is the high cloud a total energy loss or an energy gain for the system?**"
   ]
  },
  {
   "cell_type": "code",
   "execution_count": 25,
   "metadata": {},
   "outputs": [
    {
     "name": "stdout",
     "output_type": "stream",
     "text": [
      "210.0\n",
      "152.84395834469998\n",
      "-129.865\n",
      "The effect of high clouds on the total radiative balance is 22.978958344699976 W/m^2, so an energy gain of the system\n"
     ]
    }
   ],
   "source": [
    "z = 12 \n",
    "t_c = t_s + z*gamma\n",
    "print(t_c)\n",
    "\n",
    "delta_EB_lw = sigma*(t_clr**4)-sigma*(t_c**4)\n",
    "print(delta_EB_lw)\n",
    "\n",
    "delta_EB_sw = -s_0/4*(cloud_albedo - surface_albedo)\n",
    "print(delta_EB_sw)\n",
    "\n",
    "delta_EB_tot = delta_EB_sw + delta_EB_lw\n",
    "print('The effect of high clouds on the total radiative balance is ' + str(delta_EB_tot) + ' W/m^2, so an energy gain of the system')"
   ]
  },
  {
   "cell_type": "markdown",
   "metadata": {},
   "source": [
    "## And now automate things a little bit"
   ]
  },
  {
   "cell_type": "markdown",
   "metadata": {},
   "source": [
    "**Q: repeat the calculations above for the whole range of altitudes between 4 and 12 km (see the previous lesson for how to do this). Plot the curve.**"
   ]
  },
  {
   "cell_type": "code",
   "execution_count": 46,
   "metadata": {},
   "outputs": [
    {
     "data": {
      "image/png": "[encoded data removed]",
      "text/plain": [
       "<Figure size 432x288 with 1 Axes>"
      ]
     },
     "metadata": {
      "needs_background": "light"
     },
     "output_type": "display_data"
    }
   ],
   "source": [
    "z_lap = np.linspace(start = 4, stop = 12, num = 1000)\n",
    "t_c_lap = t_s + z_lap*(gamma)\n",
    "t_c_lap\n",
    "delta_EB_lw_lap = sigma*(t_clr**4)-sigma*(t_c_lap**4)\n",
    "delta_EB_lw_lap\n",
    "delta_EB_sw = -s_0/4*(cloud_albedo - surface_albedo)\n",
    "delta_EB_sw\n",
    "delta_EB_tot_lap = delta_EB_sw + delta_EB_lw_lap\n",
    "delta_EB_tot_lap\n",
    "\n",
    "plt.plot(delta_EB_tot_lap, z_lap);\n",
    "plt.ylabel('hight above ground (km)')\n",
    "plt.xlabel('total radiative balance in (W/m${^2}$)');"
   ]
  },
  {
   "cell_type": "markdown",
   "metadata": {},
   "source": [
    "**Q: repeat the calculations above, for three values of the cloud albedo: 0.3, 0.5, 0.7. Plot the three curves on the same plot and add a legend to the plots (see the \"Getting started\" notebook for guidance).**"
   ]
  },
  {
   "cell_type": "code",
   "execution_count": 51,
   "metadata": {},
   "outputs": [
    {
     "data": {
      "image/png": "[encoded data removed]",
      "text/plain": [
       "<Figure size 432x288 with 1 Axes>"
      ]
     },
     "metadata": {
      "needs_background": "light"
     },
     "output_type": "display_data"
    }
   ],
   "source": [
    "cloud_alb_1 = 0.3\n",
    "cloud_alb_2 = 0.5 \n",
    "cloud_alb_3 = 0.7\n",
    "\n",
    "z_lap = np.linspace(start = 4, stop = 12, num = 1000)\n",
    "t_c_lap = t_s + z_lap*(gamma)\n",
    "t_c_lap\n",
    "delta_EB_lw_lap = sigma*(t_clr**4)-sigma*(t_c_lap**4)\n",
    "delta_EB_lw_lap\n",
    "delta_EB_sw_1 = -s_0/4*(cloud_alb_1 - surface_albedo)\n",
    "delta_EB_sw_2 = -s_0/4*(cloud_alb_2 - surface_albedo)\n",
    "delta_EB_sw_3 = -s_0/4*(cloud_alb_3 - surface_albedo)\n",
    "delta_EB_tot_lap_1 = delta_EB_sw_1 + delta_EB_lw_lap\n",
    "delta_EB_tot_lap_2 = delta_EB_sw_2 + delta_EB_lw_lap\n",
    "delta_EB_tot_lap_3 = delta_EB_sw_3 + delta_EB_lw_lap\n",
    "plt.plot(delta_EB_tot_lap_1, z_lap, label = ('cloud albedo 0.3'))\n",
    "plt.plot(delta_EB_tot_lap_2, z_lap, label = ('cloud albedo 0.5'))\n",
    "plt.plot(delta_EB_tot_lap_3, z_lap, label = ('cloud albedo 0.7'))\n",
    "plt.legend(loc = 'best')\n",
    "plt.ylabel('hight above ground (km)')\n",
    "plt.xlabel('total radiative balance in (W/m${^2}$)');\n",
    "\n",
    "\n"
   ]
  },
  {
   "cell_type": "markdown",
   "metadata": {},
   "source": [
    "**Q: discuss the features of the plot, and the conditions necessary for a cloud to be an energy gain or an energy loss for the climate system. Now search for typical values of cloud albedos depending on their type, and come back to your plot for comparison.**"
   ]
  },
  {
   "cell_type": "markdown",
   "metadata": {},
   "source": [
    "-> Total Radiative balance values:  negative are energy loss and positive are energy gain of the system;\n",
    "-> the higher the cloud albedo, the higher the energy losses of the system; \n",
    "-> the higher up in atmosphere, the smaller the energy loss of the system; \n",
    "-> "
   ]
  },
  {
   "cell_type": "markdown",
   "metadata": {},
   "source": [
    "If you complicate things a bit by noticing that high clouds have a low albedo and low clouds a high albedo while thick clouds have a high albedo but also a high cloud top you can imagine that the system becomes extremely sensitive.\n",
    "\n",
    "**The processes governing cloud albedo are extremely complex. The uncertainty about changes in the clouds frequency, altitude, and albedo are one of the highest uncertainty in the climate models.**\n",
    "\n",
    "More info on [Skeptikal Science's page on the topic](http://www.skepticalscience.com/clouds-negative-feedback-basic.htm) (basic and intermediate)"
   ]
  }
 ],
 "metadata": {
  "hide_input": false,
  "kernelspec": {
   "display_name": "Python 3",
   "language": "python",
   "name": "python3"
  },
  "language_info": {
   "codemirror_mode": {
    "name": "ipython",
    "version": 3
   },
   "file_extension": ".py",
   "mimetype": "text/x-python",
   "name": "python",
   "nbconvert_exporter": "python",
   "pygments_lexer": "ipython3",
   "version": "3.8.3"
  },
  "latex_envs": {
   "LaTeX_envs_menu_present": true,
   "autoclose": false,
   "autocomplete": true,
   "bibliofile": "biblio.bib",
   "cite_by": "apalike",
   "current_citInitial": 1,
   "eqLabelWithNumbers": true,
   "eqNumInitial": 1,
   "hotkeys": {
    "equation": "Ctrl-E",
    "itemize": "Ctrl-I"
   },
   "labels_anchors": false,
   "latex_user_defs": false,
   "report_style_numbering": false,
   "user_envs_cfg": false
  },
  "nbTranslate": {
   "displayLangs": [
    "*"
   ],
   "hotkey": "alt-t",
   "langInMainMenu": true,
   "sourceLang": "en",
   "targetLang": "fr",
   "useGoogleTranslate": true
  },
  "toc": {
   "base_numbering": 1,
   "nav_menu": {},
   "number_sections": false,
   "sideBar": true,
   "skip_h1_title": true,
   "title_cell": "Table of Contents",
   "title_sidebar": "Contents",
   "toc_cell": false,
   "toc_position": {},
   "toc_section_display": true,
   "toc_window_display": false
  },
  "varInspector": {
   "cols": {
    "lenName": 16,
    "lenType": 16,
    "lenVar": 40
   },
   "kernels_config": {
    "python": {
     "delete_cmd_postfix": "",
     "delete_cmd_prefix": "del ",
     "library": "var_list.py",
     "varRefreshCmd": "print(var_dic_list())"
    },
    "r": {
     "delete_cmd_postfix": ") ",
     "delete_cmd_prefix": "rm(",
     "library": "var_list.r",
     "varRefreshCmd": "cat(var_dic_list()) "
    }
   },
   "types_to_exclude": [
    "module",
    "function",
    "builtin_function_or_method",
    "instance",
    "_Feature"
   ],
   "window_display": false
  }
 },
 "nbformat": 4,
 "nbformat_minor": 4
}
